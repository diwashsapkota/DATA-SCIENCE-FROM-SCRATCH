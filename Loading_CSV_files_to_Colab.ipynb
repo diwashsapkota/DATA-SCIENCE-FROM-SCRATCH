{
  "nbformat": 4,
  "nbformat_minor": 0,
  "metadata": {
    "colab": {
      "name": "Loading CSV files to Colab",
      "provenance": [],
      "authorship_tag": "ABX9TyOVqGaWYig1oSYCRd0E+C9U",
      "include_colab_link": true
    },
    "kernelspec": {
      "name": "python3",
      "display_name": "Python 3"
    }
  },
  "cells": [
    {
      "cell_type": "markdown",
      "metadata": {
        "id": "view-in-github",
        "colab_type": "text"
      },
      "source": [
        "<a href=\"https://colab.research.google.com/github/diwashsapkota/DSLearning/blob/main/Loading_CSV_files_to_Colab.ipynb\" target=\"_parent\"><img src=\"https://colab.research.google.com/assets/colab-badge.svg\" alt=\"Open In Colab\"/></a>"
      ]
    },
    {
      "cell_type": "markdown",
      "metadata": {
        "id": "SofQ_DM_VBkn"
      },
      "source": [
        "**3 Ways to Load CSV files into Colab**\n",
        "\n",
        "To start, log into your Google Account and go to Google Drive. Click on the New button on the left and select Colaboratory if it is installed (if not click on Connect more apps, search for Colaboratory and install it). From there, import Pandas as shown below (Colab has it installed already)."
      ]
    },
    {
      "cell_type": "code",
      "metadata": {
        "id": "Gv5RqdUAW5tv"
      },
      "source": [
        "import pandas as pd\n",
        "import numpy as np"
      ],
      "execution_count": null,
      "outputs": []
    },
    {
      "cell_type": "markdown",
      "metadata": {
        "id": "KFr9bMRMVfua"
      },
      "source": [
        "**1) From Github (Files < 25MB)**\n",
        "\n",
        "The easiest way to upload a CSV file is from your GitHub repository. Click on the dataset in your repository, then click on View Raw. Copy the link to the raw dataset and store it as a string variable called url in Colab as shown below (a cleaner method but it’s not necessary). The last step is to load the url into Pandas read_csv to get the dataframe.\n",
        "\n"
      ]
    },
    {
      "cell_type": "code",
      "metadata": {
        "id": "swlJYO3JWhay"
      },
      "source": [
        "url = 'copied_raw_GH_link'\n",
        "df1 = pd.read_csv(url)\n",
        "# Dataset is now stored in a Pandas Dataframe"
      ],
      "execution_count": null,
      "outputs": []
    },
    {
      "cell_type": "markdown",
      "metadata": {
        "id": "DawJ-pD0Wzb6"
      },
      "source": [
        "**2) From a local drive**\n",
        "\n",
        "To upload from your local drive, start with the following code:"
      ]
    },
    {
      "cell_type": "code",
      "metadata": {
        "id": "shppQ_G5XF6R"
      },
      "source": [
        "from google.colab import files\n",
        "uploaded = files.upload()"
      ],
      "execution_count": null,
      "outputs": []
    },
    {
      "cell_type": "markdown",
      "metadata": {
        "id": "HKkFkEcGXOE-"
      },
      "source": [
        "It will prompt you to select a file. Click on “Choose Files” then select and upload the file. Wait for the file to be 100% uploaded. You should see the name of the file once Colab has uploaded it. \n",
        "Finally, type in the following code to import it into a dataframe (make sure the filename matches the name of the uploaded file).\n"
      ]
    },
    {
      "cell_type": "code",
      "metadata": {
        "id": "pu2D9xRqXqzu"
      },
      "source": [
        "import io\n",
        "df2 = pd.read_csv(io.BytesIO(uploaded['Filename.csv']))\n",
        "# Dataset is now stored in a Pandas Dataframe"
      ],
      "execution_count": null,
      "outputs": []
    },
    {
      "cell_type": "markdown",
      "metadata": {
        "id": "Gm0PtyXYXwjc"
      },
      "source": [
        "**3) From Google Drive via PyDrive**\n",
        "\n",
        "This is the most complicated of the three methods. I’ll show it for those that have uploaded CSV files into their Google Drive for workflow control. First, type in the following code:"
      ]
    },
    {
      "cell_type": "code",
      "metadata": {
        "id": "EBgu0XjFX-sh"
      },
      "source": [
        "# Code to read csv file into Colaboratory:\n",
        "!pip install -U -q PyDrive\n",
        "from pydrive.auth import GoogleAuth\n",
        "from pydrive.drive import GoogleDrive\n",
        "from google.colab import auth\n",
        "from oauth2client.client import GoogleCredentials\n",
        "# Authenticate and create the PyDrive client.\n",
        "auth.authenticate_user()\n",
        "gauth = GoogleAuth()\n",
        "gauth.credentials = GoogleCredentials.get_application_default()\n",
        "drive = GoogleDrive(gauth)"
      ],
      "execution_count": null,
      "outputs": []
    },
    {
      "cell_type": "markdown",
      "metadata": {
        "id": "UWwLE3fEYBod"
      },
      "source": [
        "When prompted, click on the link to get authentication to allow Google to access your Drive. You should see a screen with “Google Cloud SDK wants to access your Google Account” at the top. After you allow permission, copy the given verification code and paste it in the box in Colab.\n",
        "Once you have completed verification, go to the CSV file in Google Drive, right-click on it and select “Get shareable link”. The link will be copied into your clipboard. Paste this link into a string variable in Colab.\n"
      ]
    },
    {
      "cell_type": "code",
      "metadata": {
        "id": "Rty2Nm0NYHTF"
      },
      "source": [
        "link = 'https://drive.google.com/open?id=1DPZZQ43w8brRhbEMolgLqOWKbZbE-IQu' //The shareable link"
      ],
      "execution_count": null,
      "outputs": []
    },
    {
      "cell_type": "markdown",
      "metadata": {
        "id": "uO3M2q6HYMvX"
      },
      "source": [
        "Finally, type in the following code to get this file into a dataframe"
      ]
    },
    {
      "cell_type": "code",
      "metadata": {
        "id": "dEGRsdTKYQxP"
      },
      "source": [
        "downloaded = drive.CreateFile({'id':id}) \n",
        "downloaded.GetContentFile('Filename.csv')  \n",
        "df3 = pd.read_csv('Filename.csv')\n",
        "# Dataset is now stored in a Pandas Dataframe"
      ],
      "execution_count": null,
      "outputs": []
    },
    {
      "cell_type": "markdown",
      "metadata": {
        "id": "N4cVqpKVYXQ2"
      },
      "source": [
        "**BONUS METHOD**\n",
        "From a Colab notebook, type the following:"
      ]
    },
    {
      "cell_type": "code",
      "metadata": {
        "id": "uxLyqAJcQqf7"
      },
      "source": [
        "from google.colab import drive\n",
        "drive.mount('/content/drive')"
      ],
      "execution_count": null,
      "outputs": []
    },
    {
      "cell_type": "code",
      "metadata": {
        "id": "xfYidI-vUQl2",
        "outputId": "867fda4f-5b0b-4f49-82ca-393fb51817ea",
        "colab": {
          "base_uri": "https://localhost:8080/",
          "height": 101
        }
      },
      "source": [
        "path = \"/content/drive/My Drive/Colab Notebooks/dataset/resb.csv\"\n",
        "df_resb = pd.read_csv(path)\n",
        "df_resb.columns\n",
        "df_resb.shape\n",
        "df_resb.head()\n",
        "df_resb.columns"
      ],
      "execution_count": null,
      "outputs": [
        {
          "output_type": "execute_result",
          "data": {
            "text/plain": [
              "Index(['Business Name', 'Business Address 1', 'Business Address 2',\n",
              "       'Business City', 'Business State', 'Business Zip', 'County',\n",
              "       'License Holder Name', 'License Expiration Date', 'License Number',\n",
              "       'License Type'],\n",
              "      dtype='object')"
            ]
          },
          "metadata": {
            "tags": []
          },
          "execution_count": 8
        }
      ]
    }
  ]
}